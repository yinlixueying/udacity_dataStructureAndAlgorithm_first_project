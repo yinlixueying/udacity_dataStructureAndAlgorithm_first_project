{
 "cells": [
  {
   "cell_type": "code",
   "execution_count": 18,
   "metadata": {},
   "outputs": [],
   "source": [
    "import hashlib\n",
    "import datetime"
   ]
  },
  {
   "cell_type": "code",
   "execution_count": 25,
   "metadata": {},
   "outputs": [],
   "source": [
    "def calc_hash(self):\n",
    "      sha = hashlib.sha256()\n",
    "\n",
    "      hash_str = \"We are going to encode this string of data!\".encode('utf-8')\n",
    "\n",
    "      sha.update(hash_str)\n",
    "\n",
    "      return sha.hexdigest()"
   ]
  },
  {
   "cell_type": "code",
   "execution_count": 30,
   "metadata": {},
   "outputs": [],
   "source": [
    "class Block:\n",
    "\n",
    "    def __init__(self, timestamp, data, previous_hash):\n",
    "      self.timestamp = timestamp\n",
    "      self.data = data\n",
    "      self.previous_hash = previous_hash\n",
    "      self.hash = calc_hash(str(data))\n",
    "      self.previous_block = None\n",
    "    def __str__(self):\n",
    "        return str(self.timestamp)+\" \"+str(self.data)+\" \"+str( self.previous_hash)+\" \"+str( self.hash)"
   ]
  },
  {
   "cell_type": "code",
   "execution_count": 35,
   "metadata": {},
   "outputs": [],
   "source": [
    "class BlockChain:\n",
    "    \n",
    "    def __init__(self):\n",
    "        self.head = None;\n",
    "        \n",
    "    def append(self, data, previous_hash):\n",
    "        time = datetime.datetime.utcnow()\n",
    "        if self.head == None:\n",
    "            self.head = Block(time, data,0);\n",
    "            return\n",
    "        \n",
    "        newHead = Block(time, data, previous_hash)\n",
    "        newHead.previous_block = self.head\n",
    "        self.head = newHead\n",
    "    \n",
    "    def to_list(self):\n",
    "        BlockList = []\n",
    "        \n",
    "        block = self.head;\n",
    "        while block:\n",
    "            BlockList.append(block)\n",
    "            block = block.previous_block\n",
    "        return BlockList\n",
    "    \n",
    "    def size(self):\n",
    "        size = 0\n",
    "        block = self.head\n",
    "        while block:\n",
    "            size += 1\n",
    "            block = block.previous_block\n",
    "        return size;"
   ]
  },
  {
   "cell_type": "code",
   "execution_count": 32,
   "metadata": {},
   "outputs": [
    {
     "name": "stdout",
     "output_type": "stream",
     "text": [
      "test case 1 \n",
      "\n",
      "test case 1 size: 0\n"
     ]
    }
   ],
   "source": [
    "\"\"\"\n",
    "# Test case 1\n",
    "# Description: empty block\n",
    "\"\"\"\n",
    "test_case1 = BlockChain()\n",
    "print(\"test case 1 \\n\")\n",
    "print(\"test case 1 size:\", test_case1.size())"
   ]
  },
  {
   "cell_type": "code",
   "execution_count": 33,
   "metadata": {},
   "outputs": [
    {
     "name": "stdout",
     "output_type": "stream",
     "text": [
      "test case 2, one block \n",
      "\n",
      "test case 2 size: 1\n",
      "2020-05-25 09:31:07.940471 no 0 a20200a94c75010576e2d6a83e6fa69271901a9d805894b28bd91e6054fbfd10\n"
     ]
    }
   ],
   "source": [
    "\"\"\"\n",
    "# Test case 2\n",
    "# Description: one block\n",
    "\"\"\"\n",
    "test_case2 = BlockChain()\n",
    "test_case2.append(\"no\",0);\n",
    "print(\"test case 2, one block \\n\")\n",
    "print(\"test case 2 size:\", test_case2.size())\n",
    "for item in test_case2.to_list():\n",
    "    print(item)"
   ]
  },
  {
   "cell_type": "code",
   "execution_count": 36,
   "metadata": {},
   "outputs": [
    {
     "name": "stdout",
     "output_type": "stream",
     "text": [
      "test case 3, five block \n",
      "\n",
      "test case 3 size: 5\n",
      "2020-05-25 09:32:01.309820 ECU a20200a94c75010576e2d6a83e6fa69271901a9d805894b28bd91e6054fbfd10 a20200a94c75010576e2d6a83e6fa69271901a9d805894b28bd91e6054fbfd10\n",
      "2020-05-25 09:32:01.309820 command a20200a94c75010576e2d6a83e6fa69271901a9d805894b28bd91e6054fbfd10 a20200a94c75010576e2d6a83e6fa69271901a9d805894b28bd91e6054fbfd10\n",
      "2020-05-25 09:32:01.309820 nand a20200a94c75010576e2d6a83e6fa69271901a9d805894b28bd91e6054fbfd10 a20200a94c75010576e2d6a83e6fa69271901a9d805894b28bd91e6054fbfd10\n",
      "2020-05-25 09:32:01.309820 hardware a20200a94c75010576e2d6a83e6fa69271901a9d805894b28bd91e6054fbfd10 a20200a94c75010576e2d6a83e6fa69271901a9d805894b28bd91e6054fbfd10\n",
      "2020-05-25 09:32:01.309820 description 0 a20200a94c75010576e2d6a83e6fa69271901a9d805894b28bd91e6054fbfd10\n"
     ]
    }
   ],
   "source": [
    "\"\"\"\n",
    "# Test case 3\n",
    "# Description: five block\n",
    "\"\"\"\n",
    "test_case3 = BlockChain()\n",
    "test_case3.append(\"description\",0);\n",
    "test_case3.append(\"hardware\",calc_hash(\"description\"));\n",
    "test_case3.append(\"nand\",calc_hash(\"hardware\"));\n",
    "test_case3.append(\"command\",calc_hash(\"nand\"));\n",
    "test_case3.append(\"ECU\",calc_hash(\"command\"));\n",
    "print(\"test case 3, five block \\n\")\n",
    "print(\"test case 3 size:\", test_case3.size())\n",
    "for item in test_case3.to_list():\n",
    "    print(item)"
   ]
  },
  {
   "cell_type": "code",
   "execution_count": null,
   "metadata": {},
   "outputs": [],
   "source": []
  }
 ],
 "metadata": {
  "kernelspec": {
   "display_name": "Python 3",
   "language": "python",
   "name": "python3"
  },
  "language_info": {
   "codemirror_mode": {
    "name": "ipython",
    "version": 3
   },
   "file_extension": ".py",
   "mimetype": "text/x-python",
   "name": "python",
   "nbconvert_exporter": "python",
   "pygments_lexer": "ipython3",
   "version": "3.7.3"
  }
 },
 "nbformat": 4,
 "nbformat_minor": 2
}
