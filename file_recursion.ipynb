{
 "cells": [
  {
   "cell_type": "code",
   "execution_count": 25,
   "metadata": {},
   "outputs": [],
   "source": [
    "import os"
   ]
  },
  {
   "cell_type": "code",
   "execution_count": 31,
   "metadata": {},
   "outputs": [],
   "source": [
    "def find_files(suffix,path):\n",
    "    if path == None:\n",
    "        return None\n",
    "    if suffic == None:\n",
    "        return None\n",
    "    fileList = [];\n",
    "    for item in os.listdir(path):\n",
    "        joinedPath = os.path.join(path, item);\n",
    "        if(os.listdir(joinedPath)):\n",
    "            fileList += find_files(suffix,joinedPath)\n",
    "        elif(os.path.isfile(joinedPath) and joinedName.endswith(suffix)):\n",
    "            fileList.append(item);\n",
    "    return fileList;"
   ]
  },
  {
   "cell_type": "code",
   "execution_count": null,
   "metadata": {},
   "outputs": [],
   "source": []
  }
 ],
 "metadata": {
  "kernelspec": {
   "display_name": "Python 3",
   "language": "python",
   "name": "python3"
  },
  "language_info": {
   "codemirror_mode": {
    "name": "ipython",
    "version": 3
   },
   "file_extension": ".py",
   "mimetype": "text/x-python",
   "name": "python",
   "nbconvert_exporter": "python",
   "pygments_lexer": "ipython3",
   "version": "3.7.3"
  }
 },
 "nbformat": 4,
 "nbformat_minor": 2
}
