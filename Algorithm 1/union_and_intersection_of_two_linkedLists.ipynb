{
 "cells": [
  {
   "cell_type": "code",
   "execution_count": 1,
   "metadata": {},
   "outputs": [
    {
     "data": {
      "text/plain": [
       "'\\n# Union and Intersection of Two Linked Lists\\n# Your task for this problem is to fill out the union and intersection functions. \\n# The union of two sets A and B is the set of elements which are in A, in B, \\n# or in both A and B. The intersection of two sets A and B, denoted by A ∩ B, \\n# is the set of all objects that are members of both the sets A and B.\\n#\\n# You will take in two linked lists and return a linked list that is composed of either the union or intersection, respectively. \\n# Once you have completed the problem you will create your own test cases and perform your own run time analysis on the code.\\n#\\n# We have provided a code template below, you are not required to use it:\\n'"
      ]
     },
     "execution_count": 1,
     "metadata": {},
     "output_type": "execute_result"
    }
   ],
   "source": [
    "\"\"\"\n",
    "# Union and Intersection of Two Linked Lists\n",
    "# Your task for this problem is to fill out the union and intersection functions. \n",
    "# The union of two sets A and B is the set of elements which are in A, in B, \n",
    "# or in both A and B. The intersection of two sets A and B, denoted by A ∩ B, \n",
    "# is the set of all objects that are members of both the sets A and B.\n",
    "#\n",
    "# You will take in two linked lists and return a linked list that is composed of either the union or intersection, respectively. \n",
    "# Once you have completed the problem you will create your own test cases and perform your own run time analysis on the code.\n",
    "#\n",
    "# We have provided a code template below, you are not required to use it:\n",
    "\"\"\""
   ]
  },
  {
   "cell_type": "code",
   "execution_count": 5,
   "metadata": {},
   "outputs": [],
   "source": [
    "class Node:\n",
    "    def __init__(self, value):\n",
    "        self.value = value\n",
    "        self.next = None\n",
    "\n",
    "    def __repr__(self):\n",
    "        return str(self.value)\n",
    "\n",
    "\n",
    "class LinkedList:\n",
    "    def __init__(self):\n",
    "        self.head = None\n",
    "\n",
    "    def __str__(self):\n",
    "        cur_head = self.head\n",
    "        out_string = \"\"\n",
    "        while cur_head:\n",
    "            out_string += str(cur_head.value) + \" -> \"\n",
    "            cur_head = cur_head.next\n",
    "        return out_string\n",
    "\n",
    "\n",
    "    def append(self, value):\n",
    "\n",
    "        if self.head is None:\n",
    "            self.head = Node(value)\n",
    "            return\n",
    "\n",
    "        node = self.head\n",
    "        while node.next:\n",
    "            node = node.next\n",
    "\n",
    "        node.next = Node(value)\n",
    "\n",
    "    def size(self):\n",
    "        size = 0\n",
    "        node = self.head\n",
    "        while node:\n",
    "            size += 1\n",
    "            node = node.next\n",
    "\n",
    "        return size"
   ]
  },
  {
   "cell_type": "code",
   "execution_count": 16,
   "metadata": {},
   "outputs": [],
   "source": [
    "def union(llist_1, llist_2):\n",
    "    # Your Solution Here\n",
    "    itemList = [];\n",
    "    unions = LinkedList()\n",
    "       #Return None if both linked lists are empty\n",
    "    if llist_1.head is None and llist_2.head is None:\n",
    "        return None\n",
    "\n",
    "    A_head = llist_1.head;\n",
    "    while (A_head is not None):\n",
    "        if A_head.value not in itemList:\n",
    "            itemList.append(A_head.value)\n",
    "        A_head = A_head.next\n",
    "    B_head = llist_2.head;\n",
    "    while (B_head is not None):\n",
    "        if B_head.value not in itemList:\n",
    "            itemList.append(B_head.value)\n",
    "        B_head = B_head.next\n",
    "\n",
    "    for item in itemList:\n",
    "        unions.append(item)\n",
    "    return unions"
   ]
  },
  {
   "cell_type": "code",
   "execution_count": 25,
   "metadata": {},
   "outputs": [],
   "source": [
    "def intersection(llist_1, llist_2):\n",
    "    # Your Solution Here\n",
    "    itemList = [];\n",
    "    itemSet = set()\n",
    "    unions = LinkedList()\n",
    "       #Return None if both linked lists are empty\n",
    "    if llist_1.head is None and llist_2.head is None:\n",
    "        return None\n",
    "    A_head = llist_1.head;\n",
    "    while (A_head is not None):\n",
    "        if A_head.value not in itemList:\n",
    "            itemList.append(A_head.value)\n",
    "        A_head = A_head.next\n",
    "    B_head = llist_2.head;\n",
    "    while (B_head is not None):\n",
    "        if B_head.value in itemList:\n",
    "            itemSet.add(B_head.value)\n",
    "        B_head = B_head.next\n",
    "    if len(itemSet) == 0:\n",
    "        return None\n",
    "    for item in itemSet:\n",
    "        unions.append(item)\n",
    "    return unions\n"
   ]
  },
  {
   "cell_type": "code",
   "execution_count": 26,
   "metadata": {},
   "outputs": [
    {
     "name": "stdout",
     "output_type": "stream",
     "text": [
      "3 -> 2 -> 4 -> 35 -> 6 -> 65 -> 6 -> 4 -> 3 -> 21 -> \n",
      "6 -> 32 -> 4 -> 9 -> 6 -> 1 -> 11 -> 21 -> 1 -> \n",
      "Union\n",
      "3 -> 2 -> 4 -> 35 -> 6 -> 65 -> 21 -> 32 -> 9 -> 1 -> 11 -> \n",
      "Intersection\n",
      "4 -> 21 -> 6 -> \n"
     ]
    }
   ],
   "source": [
    "# Test case 1\n",
    "\n",
    "linked_list_1 = LinkedList()\n",
    "linked_list_2 = LinkedList()\n",
    "\n",
    "element_1 = [3,2,4,35,6,65,6,4,3,21]\n",
    "element_2 = [6,32,4,9,6,1,11,21,1]\n",
    "\n",
    "for i in element_1:\n",
    "    linked_list_1.append(i)\n",
    "\n",
    "for i in element_2:\n",
    "    linked_list_2.append(i)\n",
    "\n",
    "print(linked_list_1)\n",
    "print(linked_list_2)\n",
    "print(\"Union\")\n",
    "print (union(linked_list_1,linked_list_2))\n",
    "print(\"Intersection\")\n",
    "print (intersection(linked_list_1,linked_list_2))"
   ]
  },
  {
   "cell_type": "code",
   "execution_count": null,
   "metadata": {},
   "outputs": [],
   "source": [
    "\"\"\"\n",
    "case 1:\n",
    "3 -> 2 -> 4 -> 35 -> 6 -> 65 -> 6 -> 4 -> 3 -> 21 -> \n",
    "6 -> 32 -> 4 -> 9 -> 6 -> 1 -> 11 -> 21 -> 1 -> \n",
    "Union\n",
    "3 -> 2 -> 4 -> 35 -> 6 -> 65 -> 21 -> 32 -> 9 -> 1 -> 11 -> \n",
    "Intersection\n",
    "4 -> 21 -> 6 -> \n",
    "\"\"\""
   ]
  },
  {
   "cell_type": "code",
   "execution_count": 27,
   "metadata": {},
   "outputs": [
    {
     "name": "stdout",
     "output_type": "stream",
     "text": [
      "3 -> 2 -> 4 -> 35 -> 6 -> 65 -> 6 -> 4 -> 3 -> 23 -> \n",
      "1 -> 7 -> 8 -> 9 -> 11 -> 21 -> 1 -> \n",
      "Union\n",
      "3 -> 2 -> 4 -> 35 -> 6 -> 65 -> 23 -> 1 -> 7 -> 8 -> 9 -> 11 -> 21 -> \n",
      "Intersection\n",
      "None\n"
     ]
    }
   ],
   "source": [
    "# Test case 2\n",
    "linked_list_3 = LinkedList()\n",
    "linked_list_4 = LinkedList()\n",
    "\n",
    "element_1 = [3,2,4,35,6,65,6,4,3,23]\n",
    "element_2 = [1,7,8,9,11,21,1]\n",
    "\n",
    "for i in element_1:\n",
    "    linked_list_3.append(i)\n",
    "\n",
    "for i in element_2:\n",
    "    linked_list_4.append(i)\n",
    "\n",
    "print(linked_list_3)\n",
    "print(linked_list_4)\n",
    "print(\"Union\")\n",
    "print (union(linked_list_3,linked_list_4))\n",
    "print(\"Intersection\")\n",
    "print (intersection(linked_list_3,linked_list_4))"
   ]
  },
  {
   "cell_type": "code",
   "execution_count": 28,
   "metadata": {},
   "outputs": [
    {
     "data": {
      "text/plain": [
       "'\\ncase 2\\nUnion\\n3 -> 2 -> 4 -> 35 -> 6 -> 65 -> 23 -> 1 -> 7 -> 8 -> 9 -> 11 -> 21 -> \\nIntersection\\nNone\\n'"
      ]
     },
     "execution_count": 28,
     "metadata": {},
     "output_type": "execute_result"
    }
   ],
   "source": [
    "\"\"\"\n",
    "case 2\n",
    "3 -> 2 -> 4 -> 35 -> 6 -> 65 -> 6 -> 4 -> 3 -> 23 -> \n",
    "1 -> 7 -> 8 -> 9 -> 11 -> 21 -> 1 -> \n",
    "Union\n",
    "3 -> 2 -> 4 -> 35 -> 6 -> 65 -> 23 -> 1 -> 7 -> 8 -> 9 -> 11 -> 21 -> \n",
    "Intersection\n",
    "None\n",
    "\"\"\""
   ]
  },
  {
   "cell_type": "code",
   "execution_count": 29,
   "metadata": {},
   "outputs": [
    {
     "name": "stdout",
     "output_type": "stream",
     "text": [
      "3 -> 2 -> 4 -> 35 -> 6 -> 65 -> 6 -> 4 -> 3 -> 23 -> \n",
      "Empty List\n",
      "Union\n",
      "3 -> 2 -> 4 -> 35 -> 6 -> 65 -> 23 -> \n",
      "Intersection\n",
      "None\n"
     ]
    }
   ],
   "source": [
    "#Test case 3\n",
    "linked_list_5 = LinkedList()\n",
    "linked_list_6 = LinkedList()\n",
    "\n",
    "element_1 = [3,2,4,35,6,65,6,4,3,23]\n",
    "\n",
    "for i in element_1:\n",
    "    linked_list_5.append(i)\n",
    "    \n",
    "print(linked_list_5)\n",
    "print(\"Empty List\")\n",
    "print(\"Union\")\n",
    "print (union(linked_list_5,linked_list_6))\n",
    "print(\"Intersection\")\n",
    "print (intersection(linked_list_5,linked_list_6))"
   ]
  },
  {
   "cell_type": "code",
   "execution_count": null,
   "metadata": {},
   "outputs": [],
   "source": [
    "\"\"\"\n",
    "case 3\n",
    "3 -> 2 -> 4 -> 35 -> 6 -> 65 -> 6 -> 4 -> 3 -> 23 -> \n",
    "Empty List\n",
    "Union\n",
    "3 -> 2 -> 4 -> 35 -> 6 -> 65 -> 23 -> \n",
    "Intersection\n",
    "None\n",
    "\"\"\""
   ]
  },
  {
   "cell_type": "code",
   "execution_count": 30,
   "metadata": {},
   "outputs": [
    {
     "name": "stdout",
     "output_type": "stream",
     "text": [
      "Empty List 1\n",
      "Empty List 2\n",
      "Union\n",
      "None\n",
      "Intersection\n",
      "None\n"
     ]
    }
   ],
   "source": [
    "#Test case 4\n",
    "linked_list_7 = LinkedList()\n",
    "linked_list_8 = LinkedList()\n",
    "    \n",
    "print(\"Empty List 1\")\n",
    "print(\"Empty List 2\")\n",
    "print(\"Union\")\n",
    "print (union(linked_list_7,linked_list_8))\n",
    "print(\"Intersection\")\n",
    "print (intersection(linked_list_7,linked_list_8))"
   ]
  },
  {
   "cell_type": "code",
   "execution_count": null,
   "metadata": {},
   "outputs": [],
   "source": [
    "\"\"\"\n",
    "Empty List 1\n",
    "Empty List 2\n",
    "Union\n",
    "None\n",
    "Intersection\n",
    "None\n",
    "\"\"\""
   ]
  }
 ],
 "metadata": {
  "kernelspec": {
   "display_name": "Python 3",
   "language": "python",
   "name": "python3"
  },
  "language_info": {
   "codemirror_mode": {
    "name": "ipython",
    "version": 3
   },
   "file_extension": ".py",
   "mimetype": "text/x-python",
   "name": "python",
   "nbconvert_exporter": "python",
   "pygments_lexer": "ipython3",
   "version": "3.7.3"
  }
 },
 "nbformat": 4,
 "nbformat_minor": 2
}
