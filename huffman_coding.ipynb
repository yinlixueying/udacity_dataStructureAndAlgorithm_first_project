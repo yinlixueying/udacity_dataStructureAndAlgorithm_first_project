{
 "cells": [
  {
   "cell_type": "code",
   "execution_count": 83,
   "metadata": {},
   "outputs": [],
   "source": [
    "import sys\n",
    "import heapq"
   ]
  },
  {
   "cell_type": "code",
   "execution_count": 98,
   "metadata": {},
   "outputs": [],
   "source": [
    "class huffman_Node(object):\n",
    "    def __init__(self, value, freq):\n",
    "        self.left = None;\n",
    "        self.right = None;\n",
    "        self.value = value;\n",
    "        self.freq = freq;\n",
    "    def __lt__(self, node):\n",
    "        return self.freq < node.freq;\n",
    "    def __str__(self):\n",
    "        return str(self.value)+\" \"+str(self.freq)"
   ]
  },
  {
   "cell_type": "code",
   "execution_count": 99,
   "metadata": {},
   "outputs": [],
   "source": [
    "def get_frequency(str):\n",
    "    freq = {};\n",
    "    for i in str:\n",
    "        if i in freq:\n",
    "            freq[i] += 1;\n",
    "        else:\n",
    "            freq[i] = 1;\n",
    "    sorted_freq = sorted(zip(freq.values(), freq.keys()));\n",
    "    for i in range(len(sorted_freq)):\n",
    "        value = sorted_freq[i][1]; #second item is value\n",
    "        freq = sorted_freq[i][0]; #first item is frequency     \n",
    "        sorted_freq[i] = huffman_Node(value, freq);\n",
    "    return sorted_freq;"
   ]
  },
  {
   "cell_type": "code",
   "execution_count": 100,
   "metadata": {},
   "outputs": [],
   "source": [
    "def huffman_tree(data):\n",
    "    heap = get_frequency(data);\n",
    "    heapq.heapify(heap);\n",
    "    while(len(heap) != 1):\n",
    "        treeNode = huffman_Node(None,None);\n",
    "        treeLeft = heapq.heappop(heap);\n",
    "        treeNode.left = treeLeft;\n",
    "        treeRight = heapq.heappop(heap);\n",
    "        treeNode.right = treeRight;\n",
    "        treeNode.freq = treeLeft.freq + treeRight.freq;\n",
    "        heapq.heappush(heap, treeNode);\n",
    "    return heap;"
   ]
  },
  {
   "cell_type": "code",
   "execution_count": 101,
   "metadata": {},
   "outputs": [],
   "source": [
    "def huffcode_table(root):\n",
    "    code = {};\n",
    "    def getCode(sNode, curCode=\"\"):\n",
    "        if(sNode == None):\n",
    "            return;\n",
    "        if(sNode.left == None and sNode.right == None):\n",
    "            code[sNode.value] = curCode;\n",
    "        getCode(sNode.left, curCode + \"0\");\n",
    "        getCode(sNode.right, curCode + \"1\");\n",
    "    getCode(root[0]);\n",
    "    return code;"
   ]
  },
  {
   "cell_type": "code",
   "execution_count": 102,
   "metadata": {},
   "outputs": [],
   "source": [
    "def huffman_encoding(data):\n",
    "    if(len(get_frequency(data)) == 1):\n",
    "        return \"0\" * len(data);\n",
    "    if(len(data) == 0):\n",
    "        return \"\";\n",
    "    huffmanCode = \"\";\n",
    "    root = huffman_tree(data);\n",
    "    table = huffcode_table(root);\n",
    "    for item in data:\n",
    "        huffmanCode += table[item];\n",
    "    return huffmanCode, huffman_tree(data);"
   ]
  },
  {
   "cell_type": "code",
   "execution_count": 107,
   "metadata": {},
   "outputs": [],
   "source": [
    "def huffman_decoding(data,tree):\n",
    "    if(len(get_frequency(data))== 1):\n",
    "        return len(data)* str(tree.value);\n",
    "    decodeString = \"\";\n",
    "    dataLength = len(data);\n",
    "    count = 0;\n",
    "    while(count < dataLength):\n",
    "        start = tree[0];\n",
    "        while(start.left != None and start.right != None):\n",
    "            if(data[count] == \"0\"):\n",
    "                start = start.left;\n",
    "            else:\n",
    "                start = start.right;\n",
    "            count += 1;\n",
    "        decodeString += str(start.value);\n",
    "    return decodeString;"
   ]
  },
  {
   "cell_type": "code",
   "execution_count": 108,
   "metadata": {},
   "outputs": [
    {
     "name": "stdout",
     "output_type": "stream",
     "text": [
      "The size of the data is: 69\n",
      "\n",
      "The content of the data is: The bird is the word\n",
      "\n",
      "[<__main__.huffman_Node object at 0x000001FC9B7B2278>]\n",
      "The size of the encoded data is: 36\n",
      "\n",
      "The content of the encoded data is: 0000001111011010101111011010110111110111100001001111011010001001011010\n",
      "\n",
      "The size of the decoded data is: 69\n",
      "\n",
      "The content of the encoded data is: The bird is the word\n",
      "\n"
     ]
    }
   ],
   "source": [
    "if __name__ == \"__main__\":\n",
    "    codes = {}\n",
    "\n",
    "    a_great_sentence = \"The bird is the word\"\n",
    "\n",
    "    print (\"The size of the data is: {}\\n\".format(sys.getsizeof(a_great_sentence)))\n",
    "    print (\"The content of the data is: {}\\n\".format(a_great_sentence))\n",
    "\n",
    "    encoded_data, tree = huffman_encoding(a_great_sentence)\n",
    "\n",
    "    print (\"The size of the encoded data is: {}\\n\".format(sys.getsizeof(int(encoded_data, base=2))))\n",
    "    print (\"The content of the encoded data is: {}\\n\".format(encoded_data))\n",
    "\n",
    "    decoded_data = huffman_decoding(encoded_data, tree)\n",
    "\n",
    "    print (\"The size of the decoded data is: {}\\n\".format(sys.getsizeof(decoded_data)))\n",
    "    print (\"The content of the encoded data is: {}\\n\".format(decoded_data))"
   ]
  },
  {
   "cell_type": "code",
   "execution_count": null,
   "metadata": {},
   "outputs": [],
   "source": []
  }
 ],
 "metadata": {
  "kernelspec": {
   "display_name": "Python 3",
   "language": "python",
   "name": "python3"
  },
  "language_info": {
   "codemirror_mode": {
    "name": "ipython",
    "version": 3
   },
   "file_extension": ".py",
   "mimetype": "text/x-python",
   "name": "python",
   "nbconvert_exporter": "python",
   "pygments_lexer": "ipython3",
   "version": "3.7.3"
  }
 },
 "nbformat": 4,
 "nbformat_minor": 2
}
